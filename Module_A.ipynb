{
  "nbformat": 4,
  "nbformat_minor": 0,
  "metadata": {
    "colab": {
      "provenance": [],
      "authorship_tag": "ABX9TyORFPjlYPnh3Pg4uXxrWSDV",
      "include_colab_link": true
    },
    "kernelspec": {
      "name": "python3",
      "display_name": "Python 3"
    },
    "language_info": {
      "name": "python"
    }
  },
  "cells": [
    {
      "cell_type": "markdown",
      "metadata": {
        "id": "view-in-github",
        "colab_type": "text"
      },
      "source": [
        "<a href=\"https://colab.research.google.com/github/cpalme28/MAT-421/blob/main/Module_A.ipynb\" target=\"_parent\"><img src=\"https://colab.research.google.com/assets/colab-badge.svg\" alt=\"Open In Colab\"/></a>"
      ]
    },
    {
      "cell_type": "markdown",
      "source": [
        "Homework 1 - Coree Palmer\n",
        "\n",
        "**9.1 - Base-N and Binary**\n",
        "\n",
        "Base 10\n",
        "* We are usually exposed to numbers being written in base 10. That means that we will see numbers with digits from 0-9 when it is written in plaintext.\n",
        "* When expanded, the placevalues in base 10 will all be multiplied by ten to the corresponding power.\n",
        "* For example, writing 153.2 is the same as writing (1 * 10^2) + (5 * 10^1) + (3 * 10^0) + (2 * 10^(-1))"
      ],
      "metadata": {
        "id": "0RjuSrz7QA_H"
      }
    },
    {
      "cell_type": "code",
      "source": [
        "153.2 == (1*10**2) + (5*10**1) + (3*10**0) + (2*10**(-1))"
      ],
      "metadata": {
        "colab": {
          "base_uri": "https://localhost:8080/"
        },
        "id": "Wi7Y3pM3Q4XW",
        "outputId": "ac7d22c1-a590-417d-9227-9f8124559948"
      },
      "execution_count": 1,
      "outputs": [
        {
          "output_type": "execute_result",
          "data": {
            "text/plain": [
              "True"
            ]
          },
          "metadata": {},
          "execution_count": 1
        }
      ]
    },
    {
      "cell_type": "markdown",
      "source": [
        "Base 2\n",
        "* For computers, numbers are converted to base 2, otherwise known as binary.\n",
        "* In this case, numbers written in base 2 will only have digits from 0-1. To construct those numbers, it will be either a 0 or a 1 multiplied by some power of 2.\n",
        "* For example, we have 21 in base 10 and 10101 in base 2 since 21 = (1 * 2^4) + (0 * 2^3) + (1 * 2^2) + (0 * 2^1) + (1 * 2^0)\n",
        "\n"
      ],
      "metadata": {
        "id": "L3yy8GaMSYim"
      }
    },
    {
      "cell_type": "code",
      "source": [
        "21 == (1*2**4) + (0*2**3) + (1*2**2) + (0*2**1) + (1*2**0)"
      ],
      "metadata": {
        "colab": {
          "base_uri": "https://localhost:8080/"
        },
        "id": "9TvQR3BDSH5c",
        "outputId": "42f3d5ea-b7c6-4c44-a6bc-39f4a460a411"
      },
      "execution_count": 2,
      "outputs": [
        {
          "output_type": "execute_result",
          "data": {
            "text/plain": [
              "True"
            ]
          },
          "metadata": {},
          "execution_count": 2
        }
      ]
    },
    {
      "cell_type": "markdown",
      "source": [
        "While base 10 and base 2 are the most common types to see numbers represented as, a number could be represented in any kind of base, like base 5 for example. For base 5, we would say that 112 (base 5) = (1 * 5^2) + (1 * 5^1) + (2 * 5^0) = 32 (base 10)."
      ],
      "metadata": {
        "id": "taSH4nH-Ugf2"
      }
    },
    {
      "cell_type": "code",
      "source": [
        "32 == (1*5**2) + (1*5**1) + (2*5**0)"
      ],
      "metadata": {
        "colab": {
          "base_uri": "https://localhost:8080/"
        },
        "id": "D7iVPDCwUF_W",
        "outputId": "6d63e414-a644-4d1e-f57c-9b36f2ab7502"
      },
      "execution_count": 3,
      "outputs": [
        {
          "output_type": "execute_result",
          "data": {
            "text/plain": [
              "True"
            ]
          },
          "metadata": {},
          "execution_count": 3
        }
      ]
    },
    {
      "cell_type": "markdown",
      "source": [
        "Base-N and Binary can also be used for addition and multiplication.\n",
        "\n",
        "The binary representation for 11 is 1011 since 11 = (1 * 2^3) + (1 * 2^1) + (1 * 2^0).\n",
        "\n",
        "The binary represenation for 7 is 111 since 7 = (1 * 2^2) + (1 * 2^1) + (1 * 2^0)."
      ],
      "metadata": {
        "id": "BiU38XzNWCqI"
      }
    },
    {
      "cell_type": "code",
      "source": [
        "# Binary Addition\n",
        "# 11 + 7 = 18\n",
        "# 1011 + 111 = 10010\n",
        "18 == (1*2**4) + (0*2**3) + (0*2**2) + (1*2**1) + (0*2**0)"
      ],
      "metadata": {
        "colab": {
          "base_uri": "https://localhost:8080/"
        },
        "id": "49O-S2HSXdom",
        "outputId": "bc433980-7e8a-4a82-d316-8d38c2175d5a"
      },
      "execution_count": 4,
      "outputs": [
        {
          "output_type": "execute_result",
          "data": {
            "text/plain": [
              "True"
            ]
          },
          "metadata": {},
          "execution_count": 4
        }
      ]
    },
    {
      "cell_type": "code",
      "source": [
        "# Binary Multiplication\n",
        "# 11 * 7 = 77\n",
        "# 1011 * 111 = 1001101\n",
        "77 == (1*2**6) + (0*2**5) + (0*2**4) + (1*2**3) + (1*2**2) + (0*2**1) + (1*2**0)"
      ],
      "metadata": {
        "colab": {
          "base_uri": "https://localhost:8080/"
        },
        "id": "ImBp4ZdOX-D4",
        "outputId": "6363781d-915a-4834-e408-0fd24d9d3182"
      },
      "execution_count": 6,
      "outputs": [
        {
          "output_type": "execute_result",
          "data": {
            "text/plain": [
              "True"
            ]
          },
          "metadata": {},
          "execution_count": 6
        }
      ]
    },
    {
      "cell_type": "markdown",
      "source": [
        "**9.2 - Floating Point Numbers**"
      ],
      "metadata": {
        "id": "bnvc1KCoYzHM"
      }
    },
    {
      "cell_type": "markdown",
      "source": [
        "Because the number of bits are fixed for a given computer, the use of binary\n",
        "representation gives us an insufficient range and precision of numbers to do relevant calculations. To reach the desired range of values, we use floating point numbers, also known as floats, that utilize the same number of bits.\n",
        "* Floats allocate bits to three different parts:\n",
        "  * the sign indicator, *s*, which tells if the number is positive or negative;\n",
        "  * the characteristic or exponent, *e*, which is the power of 2;\n",
        "  * and the fraction, *f*, which the coefficient of the exponent.\n",
        "\n",
        "Most platforms map Python floats to the IEEE754 double precision, which has 64 total bits.\n",
        "* 1 bit is assigned to the sign indicator.\n",
        "* 11 bits are allocated for the exponent.\n",
        "  * To make very precise numbers, we want some of the values to represent negative exponents. To do this, 1023 is subtracted from the exponent to normalize it. This is referred to as the bias.\n",
        "* 52 bits are allocated for the fraction.\n",
        "\n",
        "Thus, a float can be represented as:\n",
        "  n = (-1)^s * 2^(e - 1023) * (1 + f), for a 64-bit\n",
        "\n"
      ],
      "metadata": {
        "id": "_HARCrtzbIob"
      }
    },
    {
      "cell_type": "code",
      "source": [
        "# Decimal (13) to IEEE754 Conversion\n",
        "# s = 0 since it is positive\n",
        "# The exponent is 3 since 8 is the largest power of 2 less than 13. Thus the characteristic is 3 + 1023 = 1026 (base 10)\n",
        "# Since 13/8 - 1 = 0.625, f can be represented as (1 * 2^-1) + (0 * 2^-2) + (1*2^-3)\n",
        "\n",
        "# 13 = 0 10000000010 1010000000000000000000000000000000000000000000000000\n",
        "13 == (-1)**0 * (2**((1*2**10 + 1*2**1) - 1023)) * (1 + (1*2**(-1) + 0*2**(-2) + 1*2**(-3)))"
      ],
      "metadata": {
        "colab": {
          "base_uri": "https://localhost:8080/"
        },
        "id": "sDu-sKt4ceBo",
        "outputId": "0741d70f-9a73-448b-f367-1903513cda06"
      },
      "execution_count": 18,
      "outputs": [
        {
          "output_type": "execute_result",
          "data": {
            "text/plain": [
              "True"
            ]
          },
          "metadata": {},
          "execution_count": 18
        }
      ]
    },
    {
      "cell_type": "markdown",
      "source": [
        "Because there are a limited numbers of bits, there is a finite number of numerical represenations possible. The distance between one number and the next is called a gap. The gap grows as the number represented grows because the fraction is multiplied by 2^(e - 1023)."
      ],
      "metadata": {
        "id": "8-96Pb6mkI7f"
      }
    },
    {
      "cell_type": "code",
      "source": [
        "import numpy as np\n",
        "np.spacing(1e10)"
      ],
      "metadata": {
        "colab": {
          "base_uri": "https://localhost:8080/"
        },
        "id": "x8SyFDl-iTa7",
        "outputId": "07944be1-512f-402d-a1b2-d76c1a74d7a4"
      },
      "execution_count": 16,
      "outputs": [
        {
          "output_type": "execute_result",
          "data": {
            "text/plain": [
              "1.9073486328125e-06"
            ]
          },
          "metadata": {},
          "execution_count": 16
        }
      ]
    },
    {
      "cell_type": "code",
      "source": [
        "1e10 == (1e10 + np.spacing(1e10)/3)"
      ],
      "metadata": {
        "colab": {
          "base_uri": "https://localhost:8080/"
        },
        "id": "1S9ByPtDknpi",
        "outputId": "0c9cc0ad-de1b-4276-b1ff-ba2a61ed7253"
      },
      "execution_count": 17,
      "outputs": [
        {
          "output_type": "execute_result",
          "data": {
            "text/plain": [
              "True"
            ]
          },
          "metadata": {},
          "execution_count": 17
        }
      ]
    },
    {
      "cell_type": "markdown",
      "source": [
        "As seen in the above example, adding a number to 1e10 that is less than half the gap at 1e10 gives the same number. This is because of the limited number of bits and limited possible representations of numbers that exist."
      ],
      "metadata": {
        "id": "Mi61BVPHkwjX"
      }
    },
    {
      "cell_type": "markdown",
      "source": [
        "In the situation where e = 0, the leading 1 in the fraction takes the value 0 instead. The result is known as a subnormal number, which is computed by n = (-1)^2 * 2^(-1022) * (0 + f). Another special situation occurs when e = 2047 and f is nonzero, so that the result is \"Not a Number,\" meaning that it is an undefined result. When e = 2047, f = 0, and s = 0, the result is positive infinity. when e = 2047, f = 0, and s = 1, the result is negative infinity."
      ],
      "metadata": {
        "id": "JFNvnJwtlGm1"
      }
    },
    {
      "cell_type": "markdown",
      "source": [
        "Numbers that are larger than the largest representable floating point number result in overflow. Python handles that by assigning the result to *inf*. Numbers that are smaller than the smallest subnormal number result in underflow. Python handles that by assigning the result to 0."
      ],
      "metadata": {
        "id": "BzqExM_ImRkQ"
      }
    },
    {
      "cell_type": "code",
      "source": [
        "# information about floating-point numbers in Python\n",
        "import sys\n",
        "sys.float_info"
      ],
      "metadata": {
        "colab": {
          "base_uri": "https://localhost:8080/"
        },
        "id": "hsqmMMwBmgMf",
        "outputId": "237d2cc2-6e02-493a-9456-04175a19797d"
      },
      "execution_count": 18,
      "outputs": [
        {
          "output_type": "execute_result",
          "data": {
            "text/plain": [
              "sys.float_info(max=1.7976931348623157e+308, max_exp=1024, max_10_exp=308, min=2.2250738585072014e-308, min_exp=-1021, min_10_exp=-307, dig=15, mant_dig=53, epsilon=2.220446049250313e-16, radix=2, rounds=1)"
            ]
          },
          "metadata": {},
          "execution_count": 18
        }
      ]
    },
    {
      "cell_type": "code",
      "source": [
        "# Overflow\n",
        "sys.float_info.max + sys.float_info.max"
      ],
      "metadata": {
        "colab": {
          "base_uri": "https://localhost:8080/"
        },
        "id": "lyZ3Uk9e_oEt",
        "outputId": "c7991861-9f1c-443f-e7e0-ba1809a2af0a"
      },
      "execution_count": 25,
      "outputs": [
        {
          "output_type": "execute_result",
          "data": {
            "text/plain": [
              "inf"
            ]
          },
          "metadata": {},
          "execution_count": 25
        }
      ]
    },
    {
      "cell_type": "code",
      "source": [
        "# Underflow\n",
        "2**(-1075)"
      ],
      "metadata": {
        "colab": {
          "base_uri": "https://localhost:8080/"
        },
        "id": "kT4SL_0Qm7sZ",
        "outputId": "2e7d7e31-3ae7-4dc9-fbed-c386cc2bfe62"
      },
      "execution_count": 26,
      "outputs": [
        {
          "output_type": "execute_result",
          "data": {
            "text/plain": [
              "0.0"
            ]
          },
          "metadata": {},
          "execution_count": 26
        }
      ]
    },
    {
      "cell_type": "markdown",
      "source": [
        "**9.3 - Round-off Errors**"
      ],
      "metadata": {
        "id": "t9kuIDMNBRac"
      }
    },
    {
      "cell_type": "markdown",
      "source": [
        "Because floating point numbers cannot be stored with perfect precision, the numbers are approximated by finite number of bytes. The difference between an approximation of a number used in computation and its true value is called round-off error.\n",
        "* The most common type is representation error, in which infinite numbers are written with a finite amount of digits."
      ],
      "metadata": {
        "id": "R979dvsxBj5j"
      }
    },
    {
      "cell_type": "markdown",
      "source": [
        "Round-off error is very commonly found when performing floating-point arithmetic. One would assume that the error between 5.5 and 4.65 should be 0.85. That, however, is not the case."
      ],
      "metadata": {
        "id": "Gao_4W2O6Dtm"
      }
    },
    {
      "cell_type": "code",
      "source": [
        "5.5 - 4.65 == 0.85"
      ],
      "metadata": {
        "colab": {
          "base_uri": "https://localhost:8080/"
        },
        "id": "V02lkmMH6yvi",
        "outputId": "81795b4b-00f3-4f5b-c50b-b0aec36db486"
      },
      "execution_count": 1,
      "outputs": [
        {
          "output_type": "execute_result",
          "data": {
            "text/plain": [
              "False"
            ]
          },
          "metadata": {},
          "execution_count": 1
        }
      ]
    },
    {
      "cell_type": "code",
      "source": [
        "5.5 - 4.65"
      ],
      "metadata": {
        "colab": {
          "base_uri": "https://localhost:8080/"
        },
        "id": "kybvbj0G61qx",
        "outputId": "18c3f0b3-d585-4cbb-9090-01432de80e40"
      },
      "execution_count": 2,
      "outputs": [
        {
          "output_type": "execute_result",
          "data": {
            "text/plain": [
              "0.8499999999999996"
            ]
          },
          "metadata": {},
          "execution_count": 2
        }
      ]
    },
    {
      "cell_type": "markdown",
      "source": [
        "This occurs bedause the floating point numbers are not actually represented by the exact number, but an approximation. That is what causes the small error.\n",
        "\n",
        "This problem can be avoided, though, when the *round* function is used."
      ],
      "metadata": {
        "id": "r5XSbZRM679_"
      }
    },
    {
      "cell_type": "code",
      "source": [
        "round(5.5 - 4.65, 5) == round(0.85, 5)"
      ],
      "metadata": {
        "colab": {
          "base_uri": "https://localhost:8080/"
        },
        "id": "RLxaBUNE7kwl",
        "outputId": "cbbc89e3-61b8-4262-b6a3-50ad6ea718ff"
      },
      "execution_count": 3,
      "outputs": [
        {
          "output_type": "execute_result",
          "data": {
            "text/plain": [
              "True"
            ]
          },
          "metadata": {},
          "execution_count": 3
        }
      ]
    },
    {
      "cell_type": "markdown",
      "source": [
        "When the *round* function is used, the results with inexact values become comparable to one another."
      ],
      "metadata": {
        "id": "Umyvs0l_7uHM"
      }
    },
    {
      "cell_type": "markdown",
      "source": [
        "Round-off error can be accumulated over time to create even more inexact answers. It is common knowledge that when you compute 1 - 1/3 + 1/3, it will equal 1, but when you put that same thing into Python, that is not the case when you run it many times."
      ],
      "metadata": {
        "id": "Etpd0REO7-_Z"
      }
    },
    {
      "cell_type": "code",
      "source": [
        "# performed only once\n",
        "1 + 1/3 - 1/3"
      ],
      "metadata": {
        "colab": {
          "base_uri": "https://localhost:8080/"
        },
        "id": "be2MMmSn8aHO",
        "outputId": "34f42e4c-9828-4247-e939-475515e8b4a8"
      },
      "execution_count": 4,
      "outputs": [
        {
          "output_type": "execute_result",
          "data": {
            "text/plain": [
              "1.0"
            ]
          },
          "metadata": {},
          "execution_count": 4
        }
      ]
    },
    {
      "cell_type": "code",
      "source": [
        "def add_and_subtract(iter):\n",
        "  result = 1\n",
        "\n",
        "  for i in range(iter):\n",
        "    result += 1/3\n",
        "\n",
        "  for i in range(iter):\n",
        "    result -= 1/3\n",
        "\n",
        "  return result"
      ],
      "metadata": {
        "id": "Zg3Zk9I28dhU"
      },
      "execution_count": 5,
      "outputs": []
    },
    {
      "cell_type": "code",
      "source": [
        "# perform 100 times\n",
        "add_and_subtract(100)"
      ],
      "metadata": {
        "colab": {
          "base_uri": "https://localhost:8080/"
        },
        "id": "4AcA5puQ8n1n",
        "outputId": "f93e1941-a38a-441a-afeb-05047f9c30f4"
      },
      "execution_count": 6,
      "outputs": [
        {
          "output_type": "execute_result",
          "data": {
            "text/plain": [
              "1.0000000000000002"
            ]
          },
          "metadata": {},
          "execution_count": 6
        }
      ]
    },
    {
      "cell_type": "code",
      "source": [
        "# perform 1000 times\n",
        "add_and_subtract(1000)"
      ],
      "metadata": {
        "colab": {
          "base_uri": "https://localhost:8080/"
        },
        "id": "XkM4Mamr8tTs",
        "outputId": "10203ff4-bb29-4be2-f005-e9869546cb42"
      },
      "execution_count": 7,
      "outputs": [
        {
          "output_type": "execute_result",
          "data": {
            "text/plain": [
              "1.0000000000000064"
            ]
          },
          "metadata": {},
          "execution_count": 7
        }
      ]
    },
    {
      "cell_type": "code",
      "source": [
        "# perform 10000 times\n",
        "add_and_subtract(10000)"
      ],
      "metadata": {
        "colab": {
          "base_uri": "https://localhost:8080/"
        },
        "id": "84oF2XXy9VCb",
        "outputId": "ee89477c-664a-49a8-8445-5d6f8b2666d3"
      },
      "execution_count": 14,
      "outputs": [
        {
          "output_type": "execute_result",
          "data": {
            "text/plain": [
              "1.0000000000001166"
            ]
          },
          "metadata": {},
          "execution_count": 14
        }
      ]
    },
    {
      "cell_type": "markdown",
      "source": [
        "As the above code shows, the more times the add_and_subtract function is run, the more the result is off from the answer that we would expect. This occurs because there is slight variations, errors, in the intermediate results that accumulate to create a visible amount of error."
      ],
      "metadata": {
        "id": "KUMduteM8_59"
      }
    }
  ]
}