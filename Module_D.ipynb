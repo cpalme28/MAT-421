{
  "nbformat": 4,
  "nbformat_minor": 0,
  "metadata": {
    "colab": {
      "provenance": [],
      "authorship_tag": "ABX9TyPx+sPLsIL/VbM3zs8lxg6T",
      "include_colab_link": true
    },
    "kernelspec": {
      "name": "python3",
      "display_name": "Python 3"
    },
    "language_info": {
      "name": "python"
    }
  },
  "cells": [
    {
      "cell_type": "markdown",
      "metadata": {
        "id": "view-in-github",
        "colab_type": "text"
      },
      "source": [
        "<a href=\"https://colab.research.google.com/github/cpalme28/MAT-421/blob/main/Module_D.ipynb\" target=\"_parent\"><img src=\"https://colab.research.google.com/assets/colab-badge.svg\" alt=\"Open In Colab\"/></a>"
      ]
    },
    {
      "cell_type": "markdown",
      "source": [
        "Homework 5 - Coree Palmer\n",
        "\n",
        "**1.1 - Introduction**\n",
        "\n",
        "Linear algebra is used in various disciplines such as data science and machine learning. It includes topics such as vector spaces, orthogonality, eigenvalues, matrix decomposition, etc.\n",
        "\n",
        "The use of Python can help in such computations since they can be tedious to do by hand"
      ],
      "metadata": {
        "id": "cdX8xoWov6kY"
      }
    },
    {
      "cell_type": "code",
      "execution_count": 1,
      "metadata": {
        "colab": {
          "base_uri": "https://localhost:8080/"
        },
        "id": "oAnVv--0v4ey",
        "outputId": "56b510a1-ebac-4c4c-fbc7-ccdb1dfc3b69"
      },
      "outputs": [
        {
          "output_type": "stream",
          "name": "stdout",
          "text": [
            "[[1 2 3]]\n",
            "Dimensions of row_vector:  (1, 3)\n",
            "\n",
            "[[1]\n",
            " [2]\n",
            " [3]]\n",
            "Dimensions of col_vector:  (3, 1)\n",
            "Cross product of v and w:  [[-11  22 -11]]\n"
          ]
        }
      ],
      "source": [
        "import numpy as np\n",
        "\n",
        "row_vector = np.array([[1, 2, 3]])\n",
        "col_vector = np.array([[1], [2], [3]])\n",
        "\n",
        "print(row_vector)\n",
        "print(\"Dimensions of row_vector: \", row_vector.shape)\n",
        "print()\n",
        "print(col_vector)\n",
        "print(\"Dimensions of col_vector: \", col_vector.shape)\n",
        "\n",
        "# calculating cross product of two arrays\n",
        "v = np.array([[1, 2, 3]])\n",
        "w = np.array([10, 9, 8])\n",
        "\n",
        "print(\"Cross product of v and w: \", np.cross(v, w))"
      ]
    },
    {
      "cell_type": "markdown",
      "source": [
        "Python can also be useful in calculations involving matrices."
      ],
      "metadata": {
        "id": "M_mBr0mXx2B9"
      }
    },
    {
      "cell_type": "code",
      "source": [
        "p = np.array([[1, 2, 3], [4, 5, 6]]) # 2 x 3 array\n",
        "q = np.array([[1, 2], [3, 4], [5, 6]]) # 3 x 2 array\n",
        "\n",
        "print(np.dot(p, q)) # result should be a 2 x 2 matrix"
      ],
      "metadata": {
        "id": "vdmyli5bw90W",
        "colab": {
          "base_uri": "https://localhost:8080/"
        },
        "outputId": "084a0eda-44b4-4b89-d1ee-39a795c51392"
      },
      "execution_count": 6,
      "outputs": [
        {
          "output_type": "stream",
          "name": "stdout",
          "text": [
            "[[22 28]\n",
            " [49 64]]\n"
          ]
        }
      ]
    },
    {
      "cell_type": "markdown",
      "source": [
        "**1.2 - Elements of Linear Algebra**\n",
        "\n",
        "Let $V = R^n$.\n",
        "\n",
        "*Linear Spaces*\n",
        "\n",
        "Linear Combinations\n",
        "  * A linear combination is a new vector constructed from a subset by multiplying each vector by a constant and adding the results. A linear subspace is a result of linear combination.\n",
        "  * A linear subspace of V is a subset U ⊆ V that is closed under vector addition and scalar multiplication\n",
        "  * For all $u_1$, $u_2$ in U and alpha in R, it holds that $u_1 + u_2$ in U and alpha*$u_1$ in U."
      ],
      "metadata": {
        "id": "5XQ9qnDELMV9"
      }
    },
    {
      "cell_type": "code",
      "source": [
        "# example of linear combination in python\n",
        "a = np.array([[1, 2, 3]])\n",
        "b = np.array([[4, 5, 6]])\n",
        "c = 5*a - 2*b\n",
        "print(c)"
      ],
      "metadata": {
        "colab": {
          "base_uri": "https://localhost:8080/"
        },
        "id": "fKMVm-ANKxgU",
        "outputId": "a3ccddd6-5d14-476c-8bd7-b1fc206de2c0"
      },
      "execution_count": 7,
      "outputs": [
        {
          "output_type": "stream",
          "name": "stdout",
          "text": [
            "[[-3  0  3]]\n"
          ]
        }
      ]
    },
    {
      "cell_type": "markdown",
      "source": [
        "* Span\n",
        "  * It is a set of all linear combinations.\n",
        "  * A span is also a linear subspace.\n",
        "  * Let W = span($w_1$,...,$w_m$).\n",
        "* Column Space\n",
        "  * The column space of A, denoted col(A), is the span of the columns of A, that is, col(A) = span($a_1$,...,$a_m$) in $R^n$."
      ],
      "metadata": {
        "id": "yJXNEOEqM4Hx"
      }
    },
    {
      "cell_type": "markdown",
      "source": [
        "Linear Independence and Dimension\n",
        "* A list of vectors $u_1$,...,$u_m$ is linearly independent if none of them can be written as a linear combination of the others, that is, for all i, $u_i$ is not an element in span({$u_j$ : j != i}). A list of vectors is called linearly dependent if they are not linearly independent."
      ],
      "metadata": {
        "id": "S-dN5Gy5Nt-J"
      }
    },
    {
      "cell_type": "code",
      "source": [
        "# proving linear independence\n",
        "\n",
        "A = np.array([[9, -8, 7], [6, 5, 4], [8, 8, 9]])\n",
        "print(np.linalg.det(A)) # a nonzero determinant means that the vectors are linearly independent\n",
        "\n",
        "B = np.array([[0, 0, 0], [1, 2, 3], [1, 2, 3]])\n",
        "print(np.linalg.det(B)) # a zero determinant means that the vectors are linearly dependent"
      ],
      "metadata": {
        "colab": {
          "base_uri": "https://localhost:8080/"
        },
        "id": "MJ4Knea4Okrd",
        "outputId": "83fcc766-9725-406b-bda1-3a56a518e52e"
      },
      "execution_count": 24,
      "outputs": [
        {
          "output_type": "stream",
          "name": "stdout",
          "text": [
            "349.0000000000002\n",
            "0.0\n"
          ]
        }
      ]
    },
    {
      "cell_type": "markdown",
      "source": [
        "Basis of a space\n",
        "* Let U be a linear subspace of V. A basis of U is a list of vectors $u_1$,...,$u_m$ in U that: (1) span U, that is, U = span($u_1$,...,$u_m$); and (2) are linearly independent.\n",
        "* A vector space can have several bases; however all the bases have the same number of elements, called the dimension of the vector space.\n",
        "* The dimension of the column space of A is called the (column) rank of A.\n",
        "* Dimension Theorem: Let U be a linear subspace of V. Any basis of U always has the same number of elements, All bases of U have the same length, that is, the same number of elements. We call this number the dimension of U and denote it dim(U).\n",
        "\n",
        "*Orthogonality*\n",
        "\n",
        "Orthonormal Bases\n",
        "* A list of vectors is orthonormal if the $u_i$'s are pairwise orthogonal and each has norm 1, that is for all the i and all j != i, <$u_i$, $u_j$> = 0, and ||$u_i$|| = 1."
      ],
      "metadata": {
        "id": "GpxNVOrvPTNE"
      }
    },
    {
      "cell_type": "code",
      "source": [
        "# orthogonality can be determined in Python\n",
        "# if the angle between two vectors is 90 degrees (pi/2), then the vectors are orthogonal\n",
        "\n",
        "from numpy import arccos, dot\n",
        "from numpy.linalg import norm\n",
        "\n",
        "a = np.array([[10, 9, 8]])\n",
        "b = np.array([[1, 2, 3]])\n",
        "\n",
        "theta1 = arccos(dot(a, b.T)/(norm(a)*norm(b)))\n",
        "print(\"theta1: \", theta1) # since the output is 0.478 != pi/2, the vectors are not orthogonal\n",
        "\n",
        "c = np.array([[5, 0, 0]])\n",
        "d = np.array([[0, 5, 0]])\n",
        "\n",
        "theta2 = arccos(dot(c, d.T)/(norm(c)*norm(d)))\n",
        "print(\"theta2: \", theta2) # since the output is 1.57 = pi/2, the vectors are orthogonal"
      ],
      "metadata": {
        "colab": {
          "base_uri": "https://localhost:8080/"
        },
        "id": "ql6wMaVkOz30",
        "outputId": "f0c98846-5798-46af-c2e3-4f889c6980e1"
      },
      "execution_count": 31,
      "outputs": [
        {
          "output_type": "stream",
          "name": "stdout",
          "text": [
            "theta1:  [[0.47807086]]\n",
            "theta2:  [[1.57079633]]\n"
          ]
        }
      ]
    },
    {
      "cell_type": "markdown",
      "source": [
        "Best Approximation Theorem\n",
        "* Let U ⊆ V be a linear subspace with orthonormal basis and v in V. For any u in U: ||v - $P_U$|| <= ||v - u||.\n",
        "* Pythagoream Theorem\n",
        "  * Let u, v in V be orthogonal. Then ||u + v||^2 = ||u||^2 + ||v||^2.\n",
        "* Orthogonal Projection\n",
        "  * Let U ⊆ V be a linear subspace with orthonormal basis $q_1$,...,$q_m$. The orthogonal projection of v in V on U is defined as $P_U$v = sum from j = 1 to m <v, $q_j$>$q_j$.\n",
        "* Best Approximation Theorem: Let U ⊆ V be a linear subspace with orthonormal basis $q_1$,...,$q_m$. For any u in U, ||v - $P_U$v|| <= ||v - u||.\n",
        "\n",
        "*Gram-Schmidt Process*\n",
        "\n",
        "This algorithm is used to obtain an orthonormal basis. Let $a_1$,...,$a_m$ be linearly independent. The process takes advantage of the properties of the orthogonal projection derived above.\n",
        "* Gram-Schmidt: Let $a_1$,...,$a_m$ in $R^n$ be linearly independent. Then there exist an orthonormal basis $q_1$,...,$q_m$ of span($a_1$,...,$a_m$).\n",
        "\n",
        "*Eigenvalues and Eigenvectors*\n",
        "\n",
        "Let A be in $R^{dxd}$ be a square matrix. Then λ in R is an eigenvalue of A if there exists a nonzero vector x != 0 such that Ax = λx. The vector x is referred to as an eigenvector.\n",
        "* Any λ that satisfies the above equation is known as an eigenvalue of the matrix A.\n",
        "* An eigenvalue expresses the degree of change undegone by a vector transformation"
      ],
      "metadata": {
        "id": "QYsUE3scS0xA"
      }
    },
    {
      "cell_type": "code",
      "source": [
        "# finding eigenvalues and eigenvectors in Python\n",
        "\n",
        "from numpy.linalg import eig\n",
        "\n",
        "a = np.array([[2, 2, 2], [3, 4, 5], [3, 3, 3]])\n",
        "w, v = eig(a)\n",
        "print(\"E-value: \", w)\n",
        "print(\"E-vector: \", v)"
      ],
      "metadata": {
        "colab": {
          "base_uri": "https://localhost:8080/"
        },
        "id": "6qr0FDKzRZLZ",
        "outputId": "48cc8cf1-8a6b-4d05-b2f2-4f22b0332634"
      },
      "execution_count": 38,
      "outputs": [
        {
          "output_type": "stream",
          "name": "stdout",
          "text": [
            "E-value:  [ 9.10977223e+00  3.77926307e-16 -1.09772229e-01]\n",
            "E-vector:  [[ 0.36581826  0.40824829  0.31980655]\n",
            " [ 0.75171487 -0.81649658 -0.81706931]\n",
            " [ 0.54872739  0.40824829  0.47970982]]\n"
          ]
        }
      ]
    },
    {
      "cell_type": "markdown",
      "source": [
        "Let A be in $R^{dxd}$ and let $λ_1$,...,$λ_m$ be distinct eigenvalues of A with corresponding nonzero eigenvectors $x_1$,...,$x_m$. Then $x_1$,...,$x_m$ are linearly independent. As a result, m <= d.\n",
        "\n",
        "* Diagonalization of Symmetric Matrices\n",
        "  * Let A be similar to a matrix D = diag($λ_1$,...,$λ_d$) with distinct diagonal entries, that is, there exists a nonsingular matrix P such that A = PDP^-1. Let $p_1$,...,$p_d$ be the columns of P. Then, AP = PD, which implies that A$p_i$ = $λ_i p_i$.\n",
        "  * If A is symmetric, then any two eigenvectors from different eigenspaces are orthogonal.\n",
        "  * The Spectral Theorem for Symmetric Matrices: An nxn symmetric matrix A has the following properties:\n",
        "    * A has n real eigenvalues, counting multiplicities.\n",
        "    * If λ is an eigenvalue of A with multiplicity k, then the eigenspace for λ is k-dimensional.\n",
        "    * The eigenspaces are mutually orthogonal, in the sense that eigenvectors corresponding to different eigenvalues are orthogonal.\n",
        "    * A is orthogonally disagonalizable.\n",
        "* Constrained Optimization\n",
        "  * Let A be nxn symmetric matrix A with an orthogonal diagonalization A = PDP^-1, The columns of P are orthonormal eigenvectors $v_1$,...,$v_n$ of A. Assume that the diagonal of D are arranged so that $λ_1 <= λ_2,...<= λ_n$.Then $min_{x != 0}$ (x^T Ax)/(x^T x) = $λ_1$ is achieved when x = $v_1$ and $max_{x != 0}$ (x^T Ax)/(x^T x) = $λ_n$ is achieved when x = $v_n$."
      ],
      "metadata": {
        "id": "RCpe82bpZXor"
      }
    },
    {
      "cell_type": "markdown",
      "source": [
        "**1.3 - Linear Regression**\n",
        "\n",
        "*QR Decomposition*\n",
        "\n",
        "QR decomposition is a useful procedure to solve the linear least squares problem. First, we use the Gram-Schmidt algorithm to obtain an orthonormal basis span($a_1$,...,$a_m$) from a linearly independent set of span($a_1$,...,$a_m$).\n",
        "* It is an interative method to find all the eigenvalues of a matrix"
      ],
      "metadata": {
        "id": "-It_WiL9ber5"
      }
    },
    {
      "cell_type": "code",
      "source": [
        "# QR Decomposition can also be accomplished in Python\n",
        "\n",
        "from numpy.linalg import qr\n",
        "\n",
        "a = np.array([[0, 2, -1],\n",
        "              [2, 3, 6],\n",
        "              [7, 9, 1]])\n",
        "p = [1, 5, 10, 20]\n",
        "\n",
        "# eigenvalues will converge eventually\n",
        "for i in range(20):\n",
        "  q, r = qr(a)\n",
        "  a = np.dot(r, q)\n",
        "\n",
        "  # only print certain iterations (as listed in p)\n",
        "  if i+1 in p:\n",
        "    print(f'Iteration {i+1}:')\n",
        "    print(a)"
      ],
      "metadata": {
        "colab": {
          "base_uri": "https://localhost:8080/"
        },
        "id": "6D4O75oHZDjO",
        "outputId": "020f7ae9-ae9c-4c29-a61d-53b7c7cf8010"
      },
      "execution_count": 39,
      "outputs": [
        {
          "output_type": "stream",
          "name": "stdout",
          "text": [
            "Iteration 1:\n",
            "[[ 5.11320755 -8.82470554  6.75434602]\n",
            " [-0.68536473  0.3890549  -1.8882416 ]\n",
            " [ 5.3683653   0.30952742 -1.50226244]]\n",
            "Iteration 5:\n",
            "[[ 9.77534558 -0.23453205 -6.90938226]\n",
            " [-0.34150197 -3.54250879 -4.89728462]\n",
            " [ 0.00980714  0.11404011 -2.23283679]]\n",
            "Iteration 10:\n",
            "[[ 9.77737748e+00  7.78116198e-01  6.74316833e+00]\n",
            " [ 1.30478547e-03 -3.05030254e+00  5.15603818e+00]\n",
            " [ 1.23876211e-05 -3.30283971e-02 -2.72707494e+00]]\n",
            "Iteration 20:\n",
            "[[ 9.77746172e+00  1.60712839e+00  6.59529066e+00]\n",
            " [ 3.98729592e-09 -2.41506935e+00  5.11635534e+00]\n",
            " [ 1.00990504e-10 -7.20239286e-02 -3.36239237e+00]]\n"
          ]
        }
      ]
    },
    {
      "cell_type": "markdown",
      "source": [
        "*Least-squares Problems*\n",
        "\n",
        "* This is another tactic used to solve this kind of problem.\n",
        "* We try to solve the system Ax = b, which is often inconsistent. We are thus looking to use Ax to approximate b.\n",
        "* If n = m, that is, if A is a square matrix, we can use the matrix inverse to solve the system. We, however, are more interested in the case where n > m.\n",
        "* One possibility to make sense of the problem in that case is to cast it as the least-squares problem\n",
        "  * $min_{x ∊ R^m} ||Ax - b||$\n",
        "* The goal is to find the parameters of the estimation function that minimized the total squared error\n",
        "\n",
        "Let b-hat = $P_{col(A)}b$. Because b-hat is in the column space of A, the equation Ax = b-hat is consistent and there is an x-hat such that A*x-hat = b-hat.\n",
        "\n",
        "Linear Regression\n",
        "* The common approach involves finding coefficients $beta_j$'s that minimize the criterion sum from i = 1 to n $(y_i$ - y-ha$t_i)^2$ where y-ha$t_i = beta_0 +$ sum from j = 1 to d of $beta_j x_{i,j}$ can be viewed as the predicted values of the linear model with coefficients $beta_j$.\n"
      ],
      "metadata": {
        "id": "XDQjQU9HdISx"
      }
    },
    {
      "cell_type": "code",
      "source": [
        "# Python can be used to compute least-squares regression\n",
        "\n",
        "from scipy import optimize\n",
        "import matplotlib.pyplot as plt\n",
        "\n",
        "# generate x and y\n",
        "x = np.linspace(0, 1, 101)\n",
        "y = 1 + x*np.random.random(len(x))\n",
        "\n",
        "# assemble A\n",
        "A = np.vstack([x, np.ones(len(x))]).T\n",
        "\n",
        "# make y into a col vector\n",
        "y = y[:, np.newaxis]\n",
        "\n",
        "# using pseudoinverse\n",
        "pinv = np.linalg.pinv(A)\n",
        "alpha = pinv.dot(y)\n",
        "print(alpha)\n",
        "\n",
        "# plot\n",
        "plt.figure(figsize = (10, 8))\n",
        "plt.plot(x, y, 'b.')\n",
        "plt.plot(x, alpha[0]*x + alpha[1], 'r')\n",
        "plt.xlabel('x')\n",
        "plt.ylabel('y')\n",
        "plt.show()"
      ],
      "metadata": {
        "colab": {
          "base_uri": "https://localhost:8080/",
          "height": 732
        },
        "id": "Stv_1P_PdEpf",
        "outputId": "6fc8c562-06e7-48f7-aa29-4c8827f25b3a"
      },
      "execution_count": 46,
      "outputs": [
        {
          "output_type": "stream",
          "name": "stdout",
          "text": [
            "[[0.55862278]\n",
            " [1.00161822]]\n"
          ]
        },
        {
          "output_type": "display_data",
          "data": {
            "text/plain": [
              "<Figure size 1000x800 with 1 Axes>"
            ],
            "image/png": "[encoded data removed]"
          },
          "metadata": {}
        }
      ]
    }
  ]
}