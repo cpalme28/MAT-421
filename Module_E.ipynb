{
  "nbformat": 4,
  "nbformat_minor": 0,
  "metadata": {
    "colab": {
      "provenance": [],
      "authorship_tag": "ABX9TyNTrzwkjp8EHPSM5kDKmjuS",
      "include_colab_link": true
    },
    "kernelspec": {
      "name": "python3",
      "display_name": "Python 3"
    },
    "language_info": {
      "name": "python"
    }
  },
  "cells": [
    {
      "cell_type": "markdown",
      "metadata": {
        "id": "view-in-github",
        "colab_type": "text"
      },
      "source": [
        "<a href=\"https://colab.research.google.com/github/cpalme28/MAT-421/blob/main/Module_E.ipynb\" target=\"_parent\"><img src=\"https://colab.research.google.com/assets/colab-badge.svg\" alt=\"Open In Colab\"/></a>"
      ]
    },
    {
      "cell_type": "markdown",
      "source": [
        "Homework 6 - Coree Palmer\n",
        "\n",
        "**3.2 - Continuity and Differentiation**\n",
        "\n",
        "Limits\n",
        "* They are essential to calculus and used to define continuity, derivatives, and integrals.\n",
        "* Let f: D-> R be a real-valued function on D subset R^d. Then f is said to be continuous at a in D if lim x->a f(x) = f(a)\n",
        "* Limits can be calculated by hand, but also with Python"
      ],
      "metadata": {
        "id": "rgPoJfCcSruZ"
      }
    },
    {
      "cell_type": "code",
      "source": [
        "from sympy import *\n",
        "\n",
        "x = symbols('x')\n",
        "\n",
        "expr = sin(x)/x;\n",
        "limit_expr = limit(expr, x, 0)\n",
        "print(\"Limit as \" + str(expr) + \" approaches 0 : \" + str(limit_expr))\n",
        "\n",
        "expr = cos(x)/x;\n",
        "limit_expr = limit(expr, x, 0)\n",
        "print(\"Limit as \" + str(expr) + \" approaches 0 : \" + str(limit_expr))\n",
        "\n",
        "expr = sin(6*x)/x;\n",
        "limit_expr = limit(expr, x, 0)\n",
        "print(\"Limit as \" + str(expr) + \" approaches 0 : \" + str(limit_expr))\n",
        "\n",
        "expr = cos(6*x)/x;\n",
        "limit_expr = limit(expr, x, 0)\n",
        "print(\"Limit as \" + str(expr) + \" approaches 0 : \" + str(limit_expr))"
      ],
      "metadata": {
        "colab": {
          "base_uri": "https://localhost:8080/"
        },
        "id": "zzotPGEZVSwM",
        "outputId": "b42b4ee2-bb03-41c4-cd76-e136c50484b0"
      },
      "execution_count": 3,
      "outputs": [
        {
          "output_type": "stream",
          "name": "stdout",
          "text": [
            "Limit as sin(x)/x approaches 0 : 1\n",
            "Limit as cos(x)/x approaches 0 : oo\n",
            "Limit as sin(6*x)/x approaches 0 : 6\n",
            "Limit as cos(6*x)/x approaches 0 : oo\n"
          ]
        }
      ]
    },
    {
      "cell_type": "markdown",
      "source": [
        "Derivatives\n",
        "* The derivative of a function of a real variable measures the sensitivity to change of the function value (output value) with respect to another variable.\n",
        "* The derivative of f at $x_0$ is f'($x_0$) = df($x_0$)/dx = lim h->0 [f($x_0$ + h) - f($x_0$)]/h, provided the limit exists.\n",
        "* Derivatives can be calculated by hand, but also in Python."
      ],
      "metadata": {
        "id": "2ll8_qRlWnTX"
      }
    },
    {
      "cell_type": "code",
      "source": [
        "x, y = symbols('x y')\n",
        "\n",
        "func1 = x**2\n",
        "print(\"Derivative of \" + str(func1) + \" with respect to x: \" + str(func1.diff(x)))\n",
        "\n",
        "func2 = x**3 + 3*x**2 + 6*x + 3\n",
        "print(\"Derivative of \" + str(func2) + \" with respect to x: \" + str(func2.diff(x)))\n",
        "\n",
        "func3 = x**2 + y**2 + 2*x + y\n",
        "print(\"Derivative of \" + str(func3) + \" with respect to x: \" + str(func3.diff(x)))\n",
        "print(\"Derivative of \" + str(func3) + \" with respect to x: \" + str(func3.diff(y)))"
      ],
      "metadata": {
        "colab": {
          "base_uri": "https://localhost:8080/"
        },
        "id": "LikbpPvTWDoh",
        "outputId": "215bc73a-47d8-4767-cede-5319cddaf10d"
      },
      "execution_count": 11,
      "outputs": [
        {
          "output_type": "stream",
          "name": "stdout",
          "text": [
            "Derivative of x**2 with respect to x: 2*x\n",
            "Derivative of x**3 + 3*x**2 + 6*x + 3 with respect to x: 3*x**2 + 6*x + 6\n",
            "Derivative of x**2 + 2*x + y**2 + y with respect to x: 2*x + 2\n",
            "Derivative of x**2 + 2*x + y**2 + y with respect to x: 2*y + 1\n"
          ]
        }
      ]
    },
    {
      "cell_type": "markdown",
      "source": [
        "Rolle's Theorem\n",
        "* Let f:[a,b]->R be a continuous function and assume that its derivative exists on (a,b). If f(a) = f(b), then there is a < c < b such that f'(c) = 0.\n",
        "\n",
        "Mean Value Theorem\n",
        "* Let f:[a,b]->R be a continous function and assume that its derivative exists on (a,b). Then there is a < c < b such that f(b) = f(a) + (b-a)f'(c), or [f(b) - f(a)]/[b-a] = f'(c).\n",
        "* This means that when a function is continuous, between two points, the instantaneous rate of change at some point is equivalent to the average rate of change across the points.\n",
        "\n",
        "Example\n",
        "* Consider the affine function f(x) = q^T x + r, where x = ($x_1$,...,$x_d$)^T, q = ($q_1$,...,$q_d$)^T in R^d. The partial derivatives of the linear term are given by the partial derivative with respect to $x_i$ of [q^T x] = $q_i$. So the gradient of f is q.\n",
        "\n",
        "Directional Derivatives\n",
        "* The directional derivative of f at $x_0$ in the direction v is lim h->0 [f($x_0$ + hv) - f($x_0$)]/h.\n",
        "* Directional Derivative from Gradient\n",
        "  * Assume that f is continously differentiable at $x_0$. Then the directional derivative of f at $x_0$ in the direction v is given by $J_f(x_0)v$ = gradient $f(x_0)^T v$.\n",
        "\n",
        "Taylor's Theorem\n",
        "* Taylor's Theorem gives an approximation of a differentiable function around a given point by a polynomial.\n",
        "* It is a powerful generalization of the Mean Value Thorem that provides polynomial approximations to a function around a point.\n",
        "* It is a way to write a function as an infinite sum of terms using derivatives.\n",
        "* Suppose f has a m times continuous derivative on [a,b]. Then f(b) = f(a) + (b-a)f'(a) + 1/2 (b-a)^2 f''(a) + ... + [(b-a)^(m-1)/(m-1)!]f^(m-1)(a) + R_m, where R_m = (b-a)^m / m! f^(m) (a + theta (b-a))."
      ],
      "metadata": {
        "id": "c_lrqLhIaCjq"
      }
    },
    {
      "cell_type": "markdown",
      "source": [
        "**3.3 - Unconstrained Optimization**\n",
        "\n",
        "Global Minimizer\n",
        "* Let f:R^d->R. The point x* in R^d is a global minimizer of f over R^d if f(x) >= f(x*), for all x in R^d.\n",
        "* A point where a function reaches its lowest value compared to all other possible points.\n",
        "\n",
        "Local Minimizer\n",
        "* Let f: R^d->R. The point x* in R^d is a local minimizer of f over R^d if there is delta > 0 such that f(x) >= f(x*), for all x in B_delta(x*)/{x*}.\n",
        "* If the inequality is strict, we say that x* is a strict local minimizer.\n",
        "* A point where a function reaches its lowest value compared to all nearby values; not neccessarily the lowest value the function will reach."
      ],
      "metadata": {
        "id": "U4qwRClQhKCY"
      }
    },
    {
      "cell_type": "code",
      "source": [
        "# optimization can be used to discover local and global minimizers in Python\n",
        "\n",
        "import numpy as np\n",
        "import matplotlib.pyplot as plt\n",
        "from scipy.optimize import minimize\n",
        "\n",
        "# define the function\n",
        "def f(x):\n",
        "  return x**4 - 3*x**2 + 2*x + 4\n",
        "\n",
        "# generate values for plotting\n",
        "x_values = np.linspace(-2, 2, 500)\n",
        "y_values = f(x_values)\n",
        "\n",
        "# plot\n",
        "plt.plot(x_values, y_values, label='f(x) = x^4 - 3x^2 + 2x + 4')\n",
        "plt.xlabel('x')\n",
        "plt.ylabel('f(x)')\n",
        "plt.title('Plot of the Function')\n",
        "plt.grid(True)\n",
        "plt.legend()\n",
        "\n",
        "# find global minimum using optimization\n",
        "result_global = minimize(f, x0=0) # start from x = 0\n",
        "x_global_min = result_global.x\n",
        "y_global_min = result_global.fun\n",
        "\n",
        "# plot global min\n",
        "plt.plot(x_global_min, y_global_min, 'ro', label=f'Global Minimizer: ({x_global_min[0]:.2f}, {y_global_min:.2f})')\n",
        "\n",
        "# find local minimum using optimization (from x = 2)\n",
        "result_local = minimize(f, x0=2)\n",
        "x_local_min = result_local.x\n",
        "y_local_min = result_local.fun\n",
        "\n",
        "# plot local min\n",
        "plt.plot(x_local_min, y_local_min, 'go', label=f'Local Minimizer: ({x_local_min[0]:.2f}, {y_local_min:.2f})')\n",
        "plt.legend()\n",
        "plt.show()"
      ],
      "metadata": {
        "colab": {
          "base_uri": "https://localhost:8080/",
          "height": 472
        },
        "id": "t-UzTsMAaprl",
        "outputId": "a8ea12e5-db9b-4fd1-be90-d8a5d328fc31"
      },
      "execution_count": 16,
      "outputs": [
        {
          "output_type": "display_data",
          "data": {
            "text/plain": [
              "<Figure size 640x480 with 1 Axes>"
            ],
            "image/png": "[encoded data removed]"
          },
          "metadata": {}
        }
      ]
    },
    {
      "cell_type": "markdown",
      "source": [
        "Descent Direction\n",
        "* Let f:R^d->R. A vector v is a descent direction for f at $x_0$ if there is alpha* > 0 such that f($x_0$ + alpha v) < f($x_0$), for all alpha in (0, alpha*).\n",
        "* Descent Direction and Directional Derivative\n",
        "  * Let f:R^d->R be continously differentiable $x_0$. A vector v is a descent directin for f at $x_0$ if gradient of $f(x_0)^T v < 0$.\n",
        "\n",
        "First-Order Necessary Condition\n",
        "* If $x_0$ is a local minimizer, then the gradient f($x_0$) = 0.  \n",
        "* If f is twice continuously differentiable, the Hessian of the function can play an important role.\n",
        "  * A square summetric dxd matrix H is a positive semi-definite (PSD) if x^T H x >= 0 for any x in R^d.\n",
        "\n",
        "Second-Order Necessary Condition\n",
        "* If $x_0$ is a local minimizer, then $H_f(x_0)$ is PSD\n",
        "\n",
        "Convex Sets and Functions\n",
        "* A set D subset of R^d is convex if for all x, y in D and all alpha in [0,1] (1 - alpha)x + alpha y in D.\n",
        "* A function f:R^d->R is convex if, for all x, y in R^d and all alpha in [0,1], f((1 - alpha)x + alpha y) <= (1 - alpha)f(x) + alpha f(y).\n",
        "\n",
        "Global Minimizers of Convex Functions\n",
        "* For a convex function, sufficient (and therefore necessary) condition for minimizers is gradient f(x_0) = 0.\n",
        "* Let f:R^d->R be a convex function. Then any local minimizer of f is also a global minimizer.\n",
        "\n",
        "Gradient Descent\n",
        "* Gradient descent is an iterativie optimization algorithm for finding a local minimum of a differentiable function.\n",
        "* Example\n",
        "  * Consider the least-squares problem min x in R^d ||Ax - b||^2, where A in R^(nxd) has full column rank. In particular, d <= n.\n",
        "  * The objective function is a quadratic function f(x) = ||Ax-b||^2 = (Ax-b)^T (Ax-b) = x^T A^T Ax - 2b^T Ax + b^T b.\n",
        "  * By a previous example, the gradient f(x) = 2A^T Ax - 2A^Tb, where we used that A^T A is symmetric. So the stationary points satisfy A^T Ax = A^T b, which you may recognize as the normal equations for the least-squares problem.\n",
        "  * The Hessian of f is H_f(x) = 2A^T A. This Hessian is clearly PSD.\n",
        "  * Any local minimizer, which is necessarily a stationary point, is also a global minimizer.\n",
        "\n",
        "\n"
      ],
      "metadata": {
        "id": "aXa4Dut2kK12"
      }
    }
  ]
}