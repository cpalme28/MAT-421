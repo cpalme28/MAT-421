{
  "nbformat": 4,
  "nbformat_minor": 0,
  "metadata": {
    "colab": {
      "provenance": [],
      "authorship_tag": "ABX9TyO0WyZ5vG3qveAkYxZrYE3N",
      "include_colab_link": true
    },
    "kernelspec": {
      "name": "python3",
      "display_name": "Python 3"
    },
    "language_info": {
      "name": "python"
    }
  },
  "cells": [
    {
      "cell_type": "markdown",
      "metadata": {
        "id": "view-in-github",
        "colab_type": "text"
      },
      "source": [
        "<a href=\"https://colab.research.google.com/github/cpalme28/MAT-421/blob/main/Module_G1.ipynb\" target=\"_parent\"><img src=\"https://colab.research.google.com/assets/colab-badge.svg\" alt=\"Open In Colab\"/></a>"
      ]
    },
    {
      "cell_type": "markdown",
      "source": [
        "Homework 8 - Coree Palmer\n",
        "\n",
        "**21.1 - Numerical Integration Problem Statement**\n",
        "\n",
        "To approximate the integral f(x) over the total interval [a,b], we assume that the interval has been discretized into a numerical grid, x, consisting of n+1 points with spacing, h = (b-a)/n.\n",
        "* We denote $x_0 = a$ and $x_n = b$.\n",
        "* There are n + 1 grid points because the count starts at $x_0$.\n",
        "* The interval $[x_i, x_{i+1}]$ is referred to as a subinterval.\n",
        "\n",
        "**21.2 - Riemanns Integral**\n",
        "\n",
        "The simplest method for approximating integrals is by summing the area of rectangles that are defined for each subinterval.\n",
        "* The width of the rectangle is $x_{i+1} - x_i = h$ and the height is defined by a function value f(x) for some x in the subinterval.\n",
        "  * An obvious choice for the height is the function value at the left endpoint, $x_i$, or the right endpoint, $x_{i+1}$.\n",
        "* The Midpoint Rule takes the rectangle height of the rectangle at each subinterval to be the function value at the midpoint between $x_i$ and $x_{i+1}$, which for compactness we denote by $y_i = (x_{i+1} + x_i)/2$.\n",
        "* To characterize the accuracy as h gets small, we can rewrite in terms of the Taylor series.\n",
        "  * For the approximation with right or left endpoints, the overall accuracy is O(h).\n",
        "  * For the midpoint rule, the overall accuracy is O($h^2$)."
      ],
      "metadata": {
        "id": "wujmerScL0Eq"
      }
    },
    {
      "cell_type": "code",
      "source": [
        "import numpy as np\n",
        "\n",
        "a = 0\n",
        "b = np.pi\n",
        "n = 11\n",
        "h = (b - a) / (n - 1)\n",
        "x = np.linspace(a, b, n)\n",
        "f = np.sin(x)\n",
        "\n",
        "riemannL = h * sum(f[:n-1])\n",
        "err_riemannL = 2 - riemannL\n",
        "\n",
        "riemannR = h * sum(f[1::])\n",
        "err_riemannR = 2 - riemannR\n",
        "\n",
        "mid = h * sum(np.sin((x[:n-1] + x[1:])/2))\n",
        "err_mid = 2 - mid\n",
        "\n",
        "print(\"Using Left Endpoint\")\n",
        "print(riemannL)\n",
        "print(\"Error: \", err_riemannL)\n",
        "print()\n",
        "print(\"Using Right Endpoint\")\n",
        "print(riemannR)\n",
        "print(\"Error: \", err_riemannR)\n",
        "print()\n",
        "print(\"Using Midpoint Rule\")\n",
        "print(mid)\n",
        "print(\"Error: \", err_mid)"
      ],
      "metadata": {
        "colab": {
          "base_uri": "https://localhost:8080/"
        },
        "id": "gk9bHAFMQqZd",
        "outputId": "a8d23a7c-546e-46c6-bca7-20428185deee"
      },
      "execution_count": 2,
      "outputs": [
        {
          "output_type": "stream",
          "name": "stdout",
          "text": [
            "Using Left Endpoint\n",
            "1.9835235375094546\n",
            "Error:  0.01647646249054535\n",
            "\n",
            "Using Right Endpoint\n",
            "1.9835235375094546\n",
            "Error:  0.01647646249054535\n",
            "\n",
            "Using Midpoint Rule\n",
            "2.0082484079079745\n",
            "Error:  -0.008248407907974542\n"
          ]
        }
      ]
    },
    {
      "cell_type": "markdown",
      "source": [
        "**21.3 - Trapezoid Rule**\n",
        "\n",
        "The Trapezoid Rule fits a trapezoid into each subinterval and sums the areas of the trapexoid to approximate the total integral.\n",
        "\n",
        "For each subinterval, the Trapezoid Rule computes the area of a trapezoid with corners at $(x_i, 0)$, $(x_{i+1}, 0)$, $(x_i, f(x_i))$, $(x_{i+1}, f(x_{i+1}))$, which is $h * (f(x_i) + f(x_{i+1}))/2$.\n",
        "* We let $y_i = (x_{i+1} + x_i) / 2$, which is the midpoint between $x_i$ and $x_{i+1}$.\n",
        "* The overall accuract over the whole interval is O($h^2$)."
      ],
      "metadata": {
        "id": "cmu_W_IsR5Tu"
      }
    },
    {
      "cell_type": "code",
      "source": [
        "a = 0\n",
        "b = np.pi\n",
        "n = 11\n",
        "h = (b - a) / (n - 1)\n",
        "x = np.linspace(a, b, n)\n",
        "f = np.sin(x)\n",
        "\n",
        "trap = (h/2) * (f[0] + 2 * sum(f[1:n-1]) + f[n-1])\n",
        "err_trap = 2 - trap\n",
        "\n",
        "print(\"Using Trapezoid Rule\")\n",
        "print(trap)\n",
        "print(\"Error: \", err_trap)"
      ],
      "metadata": {
        "colab": {
          "base_uri": "https://localhost:8080/"
        },
        "id": "QUldLoDFTL_r",
        "outputId": "ef46bfa7-7353-4a7d-ced1-5b064f5b4c4d"
      },
      "execution_count": 4,
      "outputs": [
        {
          "output_type": "stream",
          "name": "stdout",
          "text": [
            "Using Trapezoid Rule\n",
            "1.9835235375094546\n",
            "Error:  0.01647646249054535\n"
          ]
        }
      ]
    }
  ]
}