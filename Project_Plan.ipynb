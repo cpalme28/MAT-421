{
  "nbformat": 4,
  "nbformat_minor": 0,
  "metadata": {
    "colab": {
      "provenance": [],
      "authorship_tag": "ABX9TyPiUKSOboPR5689uOLPSpBi",
      "include_colab_link": true
    },
    "kernelspec": {
      "name": "python3",
      "display_name": "Python 3"
    },
    "language_info": {
      "name": "python"
    }
  },
  "cells": [
    {
      "cell_type": "markdown",
      "metadata": {
        "id": "view-in-github",
        "colab_type": "text"
      },
      "source": [
        "<a href=\"https://colab.research.google.com/github/cpalme28/MAT-421/blob/main/Project_Plan.ipynb\" target=\"_parent\"><img src=\"https://colab.research.google.com/assets/colab-badge.svg\" alt=\"Open In Colab\"/></a>"
      ]
    },
    {
      "cell_type": "markdown",
      "source": [
        "**Introduction**\n",
        "\n",
        "Loan approval is an important process in the financial sector that has potential impacts on both the lenders (banks) and the borrowers (companies, people, etc.). The financial institutes that give out loans use multiple factors to assess someone's eligibility such as the following, but not limited to, income, credit score, and employment history. Because of the large amounts of applicants, financial institutes are looking into ways to automate the process of accepting candidates. Automating the process with machine learning, such as logistic regression, can improve the decision efficiency and accuracy of the process.\n",
        "\n",
        "The goal of this project is to develop a predictive model that determines whether a loan will be approved based on these customer features. The effectiveness of the model will be evaluated using key metrics such as accuracy, precision, and recall."
      ],
      "metadata": {
        "id": "Ceu6OqBzEQN4"
      }
    },
    {
      "cell_type": "markdown",
      "source": [
        "**Related Work**\n",
        "\n",
        "Many related works in the field of loan approval prediction have focused on using machine learning techniques to improve the accuracy and efficiency of the decision-making process. These studies have dug deeper into different algorithms, feature selection methods, and data pre-processing techniques to improve the predictive performance of loan approval models.\n",
        "\n",
        "\n",
        "One approach has been to use decision tree-based algorithms, which have shown promising results in the prediction of loan approvals (Priya). They can handle numerical and categorical data, as well as capture relationships between different variables. Another approach has focused on feature selection techniques that identify the most prominent variables for loan approval prediction (Priya). Those methods help to reduce dimensionality and improve the performance of the model by selecting the most informative features (Priya). They can automatically learn patterns and relationships in the data, which can increase the accuracy of loan approval predictions.\n",
        "\n",
        "\n",
        "Deep learning models, though, require large amounts of data and computational resources. Data pre-processing techniques can improve the quality and reliability of the data, which will lead to increased accuracy in loan approval predictions (Priya)."
      ],
      "metadata": {
        "id": "ifr2s6_lEe6z"
      }
    },
    {
      "cell_type": "markdown",
      "source": [
        "**Proposed Methodology/Models**\n",
        "\n",
        "For this project, we will use logistic regression to predict whether a loan will be approved based on customer features. The following is the proposed methodology:\n",
        "* Data Preprocessing:\n",
        "  * Convert categorical variables into numerical form using encoding techniques.\n",
        "  * Normalize continuous variables such as income and credit score to ensure a balanced model.\n",
        "* Feature Selection:\n",
        "  * Identify key variables that use correlation analysis and feature importance methods.\n",
        "* Model Training and Validation:\n",
        "  * Split the dataset into training and testing sets and use cross-validation techniques to prevent overfitting.\n",
        "* Performance Evaluation:\n",
        "  * Compute accuracy, precision, and recall to assess model effectiveness.\n",
        "  * Generate a confusion matrix to analyze false positives and false negatives.\n"
      ],
      "metadata": {
        "id": "ofysCsiBEhdP"
      }
    },
    {
      "cell_type": "markdown",
      "source": [
        "**Experiment Setups**\n",
        "\n",
        "The setup will involve the following:\n",
        "* Data source: the dataset from Kaggle, which can be found at https://www.kaggle.com/datasets/rohit265/loan-approval-dataset.\n",
        "* Software Tools: Python, Panda, NumPy, and Matplotlib\n",
        "* Evaluation metrics: accuracy, precision, and recall\n",
        "* We will use the Jupyter Notebook format for the project."
      ],
      "metadata": {
        "id": "_HVTOkh1EmMa"
      }
    },
    {
      "cell_type": "markdown",
      "source": [
        "**Expected Results**\n",
        "\n",
        "The following outcomes are anticipated:\n",
        "* Model Performance:\n",
        "  * A logistic regression model with an accuracy of at least 75%.\n",
        "  * Precision and recall values indicate a trade-off between false positives and false negatives that is in equilibrium.\n",
        "* Feature Importance Insights:\n",
        "  * Identification of the most influential features for loan approval decisions.\n"
      ],
      "metadata": {
        "id": "nD1M2BaVErMu"
      }
    },
    {
      "cell_type": "markdown",
      "source": [
        "**References**\n",
        "\n",
        "Priya, S. V., & Karmehala, A. (2024, February). Prediction of personal loan approval in bank using ... https://www.ijisrt.com/assets/upload/files/IJISRT24FEB1618.pdf"
      ],
      "metadata": {
        "id": "ODR57QOyCGv_"
      }
    }
  ]
}